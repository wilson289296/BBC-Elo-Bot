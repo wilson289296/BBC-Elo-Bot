{
 "cells": [
  {
   "cell_type": "code",
   "execution_count": 17,
   "id": "a37496dc-faf1-423c-99ca-8bab2713e74d",
   "metadata": {},
   "outputs": [],
   "source": [
    "from math import e"
   ]
  },
  {
   "cell_type": "code",
   "execution_count": 52,
   "id": "0fe97ccb-215c-4e44-a09c-2ad1ae7d557a",
   "metadata": {},
   "outputs": [
    {
     "name": "stdout",
     "output_type": "stream",
     "text": [
      "will elo: 1500\n",
      "jason elo: 1500\n",
      "amaris elo: 1500\n",
      "jo elo: 1500\n",
      "tony elo: 1500\n",
      "nancy elo: 1500\n",
      "derek elo: 1500\n",
      "dillan elo: 1500\n",
      "elex elo: 1500\n",
      "cat elo: 1500\n"
     ]
    }
   ],
   "source": [
    "class Leaderboard:\n",
    "    def __init__(self):\n",
    "        self.players = {}\n",
    "        \n",
    "    def addPlayer(self, name):\n",
    "        self.players[name] = 1500\n",
    "\n",
    "    def getPlayers(self):\n",
    "        for name in self.players.keys():\n",
    "            print(f\"{name} elo: {self.players[name]}\")\n",
    "    \n",
    "    def getUpsetMult(self, t1p1Elo, t1p2Elo, t2p1Elo, t2p2Elo, t1Score, t2Score, upsetConstant = 1):\n",
    "        if t1Score >= t2Score:\n",
    "            winningElo = (t1p1 + t1p2) / 2\n",
    "            losingElo = (t2p1 + t2p2) / 2\n",
    "        else: \n",
    "            winningElo = (t2p1 + t2p2) / 2\n",
    "            losingElo = (t1p1 + t1p2) / 2\n",
    "\n",
    "        return upsetConstant * losingElo / winningElo\n",
    "\n",
    "    def getLobbyEloMult(self, lobbyElo, playerElo, bellCurveConstant = 500):\n",
    "        # e^-(0.002*delta)^2\n",
    "        delta = abs(lobbyElo - playerElo)\n",
    "        constant = 1/bellCurveConstant\n",
    "        exponent = (constant * delta) ** 2\n",
    "        return e ** -exponent\n",
    "\n",
    "    def getScoreDeltaMult(self, t1Score, t2score, scoreDeltaConstant = 1):\n",
    "        delta = abs(t1Score - t2Score)\n",
    "        return scoreDeltaConstant * delta / 21\n",
    "\n",
    "    def add2pGame(self, t1p1, t1p2, t2p1, t2p2, t1Score, t2Score, winElo = 100, lossElo = -100):\n",
    "        t1p1Elo = self.players[t1p1]\n",
    "        t1p2Elo = self.players[t1p2]\n",
    "        t2p1Elo = self.players[t2p1]\n",
    "        t2p2Elo = self.players[t2p2]\n",
    "        \n",
    "        upsetMult = getUpsetMult(t1p1, t1p2, t2p1, t2p2, t1Score, t2Score)\n",
    "        scoreDeltaMult = getScoreDeltaMult(t1Score, t2score)\n",
    "        print(f\"upsetMult = {upsetMult} \\nscoreDeltaMult={scoreDeltaMult}\")\n",
    "        lobbyElo = avg([t1p1, t1p2, t2p1, t2p2])\n",
    "        \n",
    "        if t1Score > t2Score: # t1 beat t2\n",
    "            t1p1Change = winElo * upsetMult * getLobbyEloMult(lobbyElo, t1p1Elo) * scoreDeltaMult\n",
    "            self.players[t1p1] += t1p1Change\n",
    "\n",
    "            t1p2Change = winElo * upsetMult * getLobbyEloMult(lobbyElo, t1p2Elo) * scoreDeltaMult\n",
    "            self.players[t1p2] += t1p2Change\n",
    "\n",
    "            t2p1Change = lossElo * upsetMult * getLobbyEloMult(lobbyElo, t1p1Elo) * scoreDeltaMult\n",
    "            self.players[t2p1] += t1p1Change\n",
    "\n",
    "            t2p2Change = lossElo * upsetMult * getLobbyEloMult(lobbyElo, t2p2Elo) * scoreDeltaMult\n",
    "            self.players[t2p2] += t2p2Change\n",
    "            \n",
    "        else: # t2 beat t1\n",
    "            t1p1Change = lossElo * upsetMult * getLobbyEloMult(lobbyElo, t1p1Elo) * scoreDeltaMult\n",
    "            self.players[t1p1] += t1p1Change\n",
    "\n",
    "            t1p2Change = lossElo * upsetMult * getLobbyEloMult(lobbyElo, t1p2Elo) * scoreDeltaMult\n",
    "            self.players[t1p2] += t1p2Change\n",
    "\n",
    "            t2p1Change = winElo * upsetMult * getLobbyEloMult(lobbyElo, t1p1Elo) * scoreDeltaMult\n",
    "            self.players[t2p1] += t1p1Change\n",
    "\n",
    "            t2p2Change = winElo * upsetMult * getLobbyEloMult(lobbyElo, t2p2Elo) * scoreDeltaMult\n",
    "            self.players[t2p2] += t2p2Change\n",
    "            \n",
    "\n",
    "names = [\"will\", \"jason\", \"amaris\", \"jo\", \"tony\", \"nancy\", \"derek\", \"dillan\", \"elex\", \"cat\"]\n",
    "lboard = Leaderboard()\n",
    "for name in names:\n",
    "    lboard.addPlayer(name)\n",
    "\n",
    "# lboard.getLobbyEloMult(1000, 2000)\n",
    "lboard.getPlayers()\n"
   ]
  },
  {
   "cell_type": "code",
   "execution_count": null,
   "id": "6a11b3c0-a84e-4293-86b9-7604523121eb",
   "metadata": {},
   "outputs": [],
   "source": []
  },
  {
   "cell_type": "code",
   "execution_count": null,
   "id": "7c493d58-6b9e-4d16-9bdf-de8ea70e44f6",
   "metadata": {},
   "outputs": [],
   "source": []
  }
 ],
 "metadata": {
  "kernelspec": {
   "display_name": "Python 3 (ipykernel)",
   "language": "python",
   "name": "python3"
  },
  "language_info": {
   "codemirror_mode": {
    "name": "ipython",
    "version": 3
   },
   "file_extension": ".py",
   "mimetype": "text/x-python",
   "name": "python",
   "nbconvert_exporter": "python",
   "pygments_lexer": "ipython3",
   "version": "3.10.6"
  }
 },
 "nbformat": 4,
 "nbformat_minor": 5
}
