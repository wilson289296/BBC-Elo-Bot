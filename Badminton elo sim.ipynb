{
 "cells": [
  {
   "cell_type": "code",
   "execution_count": 1,
   "id": "a37496dc-faf1-423c-99ca-8bab2713e74d",
   "metadata": {},
   "outputs": [],
   "source": [
    "from math import e\n",
    "import random"
   ]
  },
  {
   "cell_type": "code",
   "execution_count": 8,
   "id": "0fe97ccb-215c-4e44-a09c-2ad1ae7d557a",
   "metadata": {
    "collapsed": true,
    "jupyter": {
     "outputs_hidden": true,
     "source_hidden": true
    }
   },
   "outputs": [
    {
     "name": "stdout",
     "output_type": "stream",
     "text": [
      "\n",
      "\n",
      "dillan and nancy  vs. tony and jason\n",
      "1430.09 vs. 1651.85\n",
      "Average lobby Elo: 1540.97\n",
      "Score: 5 - 21\n",
      "dillan: \n",
      "1353.33 --> 1299.60 (-53.73) (LobbyEloMult = 0.81)\n",
      "nancy: \n",
      "1506.84 --> 1443.13 (-63.71) (LobbyEloMult = 0.97)\n",
      "tony: \n",
      "1593.09 --> 1655.61 (+62.53) (LobbyEloMult = 0.95)\n",
      "jason: \n",
      "1710.60 --> 1765.48 (+54.88) (LobbyEloMult = 0.83)\n",
      "Upset Multiplier: 0.87\n",
      "Score delta multiplier: 0.76\n",
      "\n",
      "\n",
      "nancy and jo  vs. tony and will\n",
      "1417.61 vs. 1529.25\n",
      "Average lobby Elo: 1473.43\n",
      "Score: 21 - 0\n",
      "nancy: \n",
      "1443.13 --> 1554.27 (+111.14) (LobbyEloMult = 1.03)\n",
      "jo: \n",
      "1392.09 --> 1508.72 (+116.63) (LobbyEloMult = 1.08)\n",
      "tony: \n",
      "1655.61 --> 1528.30 (-127.31) (LobbyEloMult = 1.18)\n",
      "will: \n",
      "1402.89 --> 1302.61 (-100.28) (LobbyEloMult = 0.93)\n",
      "Upset Multiplier: 1.08\n",
      "Score delta multiplier: 1.00\n",
      "\n",
      "\n",
      "jo and dillan  vs. jason and cat\n",
      "1404.16 vs. 1734.45\n",
      "Average lobby Elo: 1569.31\n",
      "Score: 10 - 21\n",
      "jo: \n",
      "1508.72 --> 1468.88 (-39.84) (LobbyEloMult = 0.94)\n",
      "dillan: \n",
      "1299.60 --> 1268.37 (-31.24) (LobbyEloMult = 0.74)\n",
      "jason: \n",
      "1765.48 --> 1799.67 (+34.19) (LobbyEloMult = 0.81)\n",
      "cat: \n",
      "1703.42 --> 1740.17 (+36.75) (LobbyEloMult = 0.87)\n",
      "Upset Multiplier: 0.81\n",
      "Score delta multiplier: 0.52\n",
      "\n",
      "\n",
      "tony and cat  vs. dillan and jo\n",
      "1634.24 vs. 1368.62\n",
      "Average lobby Elo: 1501.43\n",
      "Score: 21 - 11\n",
      "tony: \n",
      "1528.30 --> 1567.11 (+38.81) (LobbyEloMult = 0.97)\n",
      "cat: \n",
      "1740.17 --> 1770.71 (+30.54) (LobbyEloMult = 0.77)\n",
      "dillan: \n",
      "1268.37 --> 1237.62 (-30.75) (LobbyEloMult = 0.77)\n",
      "jo: \n",
      "1468.88 --> 1430.30 (-38.58) (LobbyEloMult = 0.97)\n",
      "Upset Multiplier: 0.84\n",
      "Score delta multiplier: 0.48\n",
      "\n",
      "\n",
      "tony and jo  vs. dillan and nancy\n",
      "1498.70 vs. 1395.94\n",
      "Average lobby Elo: 1447.32\n",
      "Score: 18 - 21\n",
      "tony: \n",
      "1567.11 --> 1549.94 (-17.17) (LobbyEloMult = 1.12)\n",
      "jo: \n",
      "1430.30 --> 1415.22 (-15.08) (LobbyEloMult = 0.98)\n",
      "dillan: \n",
      "1237.62 --> 1256.12 (+18.51) (LobbyEloMult = 1.21)\n",
      "nancy: \n",
      "1554.27 --> 1567.98 (+13.70) (LobbyEloMult = 0.89)\n",
      "Upset Multiplier: 1.07\n",
      "Score delta multiplier: 0.14\n"
     ]
    }
   ],
   "source": [
    "class Leaderboard:\n",
    "    def __init__(self):\n",
    "        self.players = {}\n",
    "        \n",
    "    def addPlayer(self, name):\n",
    "        self.players[name] = 1500\n",
    "\n",
    "    def getPlayers(self):\n",
    "        for name in self.players.keys():\n",
    "            print(f\"{name} elo: {self.players[name]}\")\n",
    "    \n",
    "    def getUpsetMult(self, t1p1Elo, t1p2Elo, t2p1Elo, t2p2Elo, t1Score, t2Score, upsetConstant = 1):\n",
    "        if t1Score >= t2Score:\n",
    "            winningElo = (t1p1Elo + t1p2Elo) / 2\n",
    "            losingElo = (t2p1Elo + t2p2Elo) / 2\n",
    "        else: \n",
    "            winningElo = (t2p1Elo + t2p2Elo) / 2\n",
    "            losingElo = (t1p1Elo + t1p2Elo) / 2\n",
    "\n",
    "        return upsetConstant * losingElo / winningElo\n",
    "\n",
    "    def legacy_LobbyEloMult(self, lobbyElo, playerElo, upset, constant = 0.00005): # legacy version using normal distribution\n",
    "        # e^-constant(delta^2)\n",
    "        delta = abs(lobbyElo - playerElo)\n",
    "        exponent = constant * (delta ** 2)\n",
    "        if upset:\n",
    "            return 1- (0.9 * e ** -exponent)\n",
    "        else:\n",
    "            return 0.9 * e ** -exponent\n",
    "    \n",
    "    def getLobbyEloMult(self, lobbyElo, playerElo, win, constant = 0.002): # new version using sigmoid function\n",
    "        # 1 / (1 - e^-x)\n",
    "        if win:\n",
    "            return 2 / (1 + e ** (constant * (playerElo - lobbyElo)))\n",
    "        else:\n",
    "            return 2 / (1 + e ** (-constant * (playerElo - lobbyElo)))\n",
    "            \n",
    "    def getScoreDeltaMult(self, t1Score, t2Score, scoreDeltaConstant = 1):\n",
    "        delta = abs(t1Score - t2Score)\n",
    "        return scoreDeltaConstant * delta / 21\n",
    "\n",
    "    def add2pGame(self, t1p1, t1p2, t2p1, t2p2, t1Score, t2Score, winElo = 100, lossElo = -100, report = False):\n",
    "        t1p1Elo = self.players[t1p1]\n",
    "        t1p2Elo = self.players[t1p2]\n",
    "        t2p1Elo = self.players[t2p1]\n",
    "        t2p2Elo = self.players[t2p2]\n",
    "        \n",
    "        upsetMult = self.getUpsetMult(t1p1Elo, t1p2Elo, t2p1Elo, t2p2Elo, t1Score, t2Score)\n",
    "        scoreDeltaMult = self.getScoreDeltaMult(t1Score, t2Score)\n",
    "        # print(f\"upsetMult = {upsetMult} \\nscoreDeltaMult={scoreDeltaMult}\")\n",
    "        lobbyElo = sum([t1p1Elo, t1p2Elo, t2p1Elo, t2p2Elo]) / 4\n",
    "        \n",
    "        if t1Score > t2Score: # t1 beat t2\n",
    "            t1p1Change = winElo * upsetMult * self.getLobbyEloMult(lobbyElo, t1p1Elo, True) * scoreDeltaMult\n",
    "            self.players[t1p1] += t1p1Change\n",
    "\n",
    "            t1p2Change = winElo * upsetMult * self.getLobbyEloMult(lobbyElo, t1p2Elo, True) * scoreDeltaMult\n",
    "            self.players[t1p2] += t1p2Change\n",
    "\n",
    "            t2p1Change = lossElo * upsetMult * self.getLobbyEloMult(lobbyElo, t2p1Elo, False) * scoreDeltaMult\n",
    "            self.players[t2p1] += t2p1Change\n",
    "\n",
    "            t2p2Change = lossElo * upsetMult * self.getLobbyEloMult(lobbyElo, t2p2Elo, False) * scoreDeltaMult\n",
    "            self.players[t2p2] += t2p2Change\n",
    "            \n",
    "        else: # t2 beat t1\n",
    "            t1p1Change = lossElo * upsetMult * self.getLobbyEloMult(lobbyElo, t1p1Elo, False) * scoreDeltaMult\n",
    "            self.players[t1p1] += t1p1Change\n",
    "\n",
    "            t1p2Change = lossElo * upsetMult * self.getLobbyEloMult(lobbyElo, t1p2Elo, False) * scoreDeltaMult\n",
    "            self.players[t1p2] += t1p2Change\n",
    "\n",
    "            t2p1Change = winElo * upsetMult * self.getLobbyEloMult(lobbyElo, t2p1Elo, True) * scoreDeltaMult\n",
    "            self.players[t2p1] += t2p1Change\n",
    "\n",
    "            t2p2Change = winElo * upsetMult * self.getLobbyEloMult(lobbyElo, t2p2Elo, True) * scoreDeltaMult\n",
    "            self.players[t2p2] += t2p2Change\n",
    "\n",
    "        if report:\n",
    "            print(\"\\n\")\n",
    "            print(f\"{t1p1} and {t1p2}  vs. {t2p1} and {t2p2}\")\n",
    "            print(f\"{((t1p1Elo + t1p2Elo) / 2):.2f} vs. {((t2p1Elo + t2p2Elo) / 2):.2f}\")\n",
    "            print(f\"Average lobby Elo: {lobbyElo:.2f}\")\n",
    "            print(f\"Score: {t1Score} - {t2Score}\")\n",
    "            print(f\"{t1p1}: \\n{t1p1Elo:.2f} --> {self.players[t1p1]:.2f} ({'+' if t1p1Change > 0 else ''}{t1p1Change:.2f}) (LobbyEloMult = {self.getLobbyEloMult(lobbyElo, t1p1Elo, t1Score > t2Score):.2f})\") \n",
    "            print(f\"{t1p2}: \\n{t1p2Elo:.2f} --> {self.players[t1p2]:.2f} ({'+' if t1p2Change > 0 else ''}{t1p2Change:.2f}) (LobbyEloMult = {self.getLobbyEloMult(lobbyElo, t1p2Elo, t1Score > t2Score):.2f})\")\n",
    "            print(f\"{t2p1}: \\n{t2p1Elo:.2f} --> {self.players[t2p1]:.2f} ({'+' if t2p1Change > 0 else ''}{t2p1Change:.2f}) (LobbyEloMult = {self.getLobbyEloMult(lobbyElo, t2p1Elo, t1Score < t2Score):.2f})\")\n",
    "            print(f\"{t2p2}: \\n{t2p2Elo:.2f} --> {self.players[t2p2]:.2f} ({'+' if t2p2Change > 0 else ''}{t2p2Change:.2f}) (LobbyEloMult = {self.getLobbyEloMult(lobbyElo, t2p2Elo, t1Score < t2Score):.2f})\")\n",
    "            \n",
    "            print(f\"Upset Multiplier: {upsetMult:.2f}\")\n",
    "            print(f\"Score delta multiplier: {scoreDeltaMult:.2f}\")\n",
    "\n",
    "\n",
    "names = [\"will\", \"jason\", \"amaris\", \"jo\", \"tony\", \"nancy\", \"derek\", \"dillan\", \"elex\", \"cat\"]\n",
    "lboard = Leaderboard()\n",
    "for name in names:\n",
    "    lboard.addPlayer(name)\n",
    "\n",
    "for i in range(1, 1000):\n",
    "    players = random.sample(names, 4)\n",
    "    score = [21, 21]\n",
    "    loser = random.randint(0,1)\n",
    "    score[loser] = random.randint(0,20)\n",
    "    lboard.add2pGame(players[0], players[1], players[2], players[3], score[0], score[1], report = False)\n",
    "\n",
    "for i in range(1, 6):\n",
    "    players = random.sample(names, 4)\n",
    "    score = [21, 21]\n",
    "    loser = random.randint(0,1)\n",
    "    score[loser] = random.randint(0,20)\n",
    "    lboard.add2pGame(players[0], players[1], players[2], players[3], score[0], score[1], report = True)\n"
   ]
  },
  {
   "cell_type": "code",
   "execution_count": 5,
   "id": "5e1a15a0-1387-4c1a-9329-332df6035c2b",
   "metadata": {},
   "outputs": [
    {
     "data": {
      "text/plain": [
       "True"
      ]
     },
     "execution_count": 5,
     "metadata": {},
     "output_type": "execute_result"
    }
   ],
   "source": [
    "import os\n",
    "from os.path import exists\n",
    "\n",
    "exists(os.getcwd()+\"/BBC ELO discord bot/bot.py\")"
   ]
  },
  {
   "cell_type": "code",
   "execution_count": 3,
   "id": "e146ffe2-e9d5-4edd-a20a-b6cb6696ef3d",
   "metadata": {},
   "outputs": [
    {
     "ename": "NameError",
     "evalue": "name 'os' is not defined",
     "output_type": "error",
     "traceback": [
      "\u001b[0;31m---------------------------------------------------------------------------\u001b[0m",
      "\u001b[0;31mNameError\u001b[0m                                 Traceback (most recent call last)",
      "Cell \u001b[0;32mIn[3], line 1\u001b[0m\n\u001b[0;32m----> 1\u001b[0m \u001b[43mos\u001b[49m\u001b[38;5;241m.\u001b[39mgetcwd()\u001b[38;5;241m+\u001b[39m\u001b[38;5;124m\"\u001b[39m\u001b[38;5;124m/BBC ELO discord bot/bot.py\u001b[39m\u001b[38;5;124m\"\u001b[39m\n",
      "\u001b[0;31mNameError\u001b[0m: name 'os' is not defined"
     ]
    }
   ],
   "source": [
    "os.getcwd()+\"/BBC ELO discord bot/bot.py\""
   ]
  },
  {
   "cell_type": "code",
   "execution_count": 209,
   "id": "22df53db-f710-40ad-a281-3e5b0046e95e",
   "metadata": {},
   "outputs": [],
   "source": [
    "lb = Leaderboard()\n",
    "with open(\"lb.pickle\", 'wb') as f:\n",
    "    pickle.dump(lb, f)"
   ]
  },
  {
   "cell_type": "code",
   "execution_count": 9,
   "id": "215c7435-2abc-4875-8da8-3fa8bda3a191",
   "metadata": {},
   "outputs": [],
   "source": [
    "import pickle\n",
    "with open(\"lb.pickle\", \"rb\") as f:\n",
    "    lb2 = pickle.load(f)"
   ]
  },
  {
   "cell_type": "code",
   "execution_count": 10,
   "id": "57ac37f6-2694-429b-8b60-a60b985bd78a",
   "metadata": {},
   "outputs": [
    {
     "name": "stdout",
     "output_type": "stream",
     "text": [
      "test elo: 1500\n"
     ]
    }
   ],
   "source": [
    "lb2.addPlayer('test')\n",
    "lb2.getPlayers()"
   ]
  }
 ],
 "metadata": {
  "kernelspec": {
   "display_name": "Python 3 (ipykernel)",
   "language": "python",
   "name": "python3"
  },
  "language_info": {
   "codemirror_mode": {
    "name": "ipython",
    "version": 3
   },
   "file_extension": ".py",
   "mimetype": "text/x-python",
   "name": "python",
   "nbconvert_exporter": "python",
   "pygments_lexer": "ipython3",
   "version": "3.10.6"
  }
 },
 "nbformat": 4,
 "nbformat_minor": 5
}
